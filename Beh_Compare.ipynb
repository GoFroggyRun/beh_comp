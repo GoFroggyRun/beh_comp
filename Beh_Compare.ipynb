{
 "cells": [
  {
   "cell_type": "code",
   "execution_count": 1,
   "metadata": {
    "collapsed": false
   },
   "outputs": [],
   "source": [
    "import pandas as pd\n",
    "import numpy as np \n",
    "import sys\n",
    "sys.path.append(\"Tax-Calculator-0.14.2\")\n",
    "import taxcalc\n",
    "from taxcalc import Policy, Records, Calculator, Behavior, Consumption"
   ]
  },
  {
   "cell_type": "code",
   "execution_count": 2,
   "metadata": {
    "collapsed": false
   },
   "outputs": [
    {
     "name": "stdout",
     "output_type": "stream",
     "text": [
      "('taxcalc vers:', '0.14.2')\n"
     ]
    }
   ],
   "source": [
    "print('taxcalc vers:', taxcalc.__version__)"
   ]
  },
  {
   "cell_type": "code",
   "execution_count": 3,
   "metadata": {
    "collapsed": true
   },
   "outputs": [],
   "source": [
    "puf = pd.read_csv(\"puf.csv\")"
   ]
  },
  {
   "cell_type": "code",
   "execution_count": 4,
   "metadata": {
    "collapsed": true
   },
   "outputs": [],
   "source": [
    "policy_base = Policy()\n",
    "records_base = Records(data = puf)\n",
    "\n",
    "policy_reform = Policy()\n",
    "records_reform = Records(data = puf)"
   ]
  },
  {
   "cell_type": "code",
   "execution_count": 5,
   "metadata": {
    "collapsed": false
   },
   "outputs": [],
   "source": [
    "assump_json = \"\"\"\n",
    "    {\"behavior\": {\"_BE_sub\": {\"2018\": [0.25]}},\n",
    "     \"growdiff_baseline\": {},\n",
    "     \"growdiff_response\": {},\n",
    "     \"consumption\": {}\n",
    "    }\n",
    "\"\"\"\n",
    "params = Calculator.read_json_param_objects(\"Tax-Calculator-0.14.2/taxcalc/reforms/TCJA_Reconciliation.json\", assump_json)\n",
    "behv0 = Behavior()\n",
    "behv0.update_behavior(params['behavior'])\n",
    "policy_reform.implement_reform(params['policy'])"
   ]
  },
  {
   "cell_type": "code",
   "execution_count": 6,
   "metadata": {
    "collapsed": false
   },
   "outputs": [
    {
     "name": "stdout",
     "output_type": "stream",
     "text": [
      "You loaded data for 2009.\n",
      "Tax-Calculator startup automatically extrapolated your data to 2013.\n",
      "You loaded data for 2009.\n",
      "Tax-Calculator startup automatically extrapolated your data to 2013.\n"
     ]
    }
   ],
   "source": [
    "calcbase = Calculator(policy = policy_base, records = records_base )\n",
    "calcreform = Calculator(policy = policy_reform, records = records_reform,behavior=behv0)"
   ]
  },
  {
   "cell_type": "code",
   "execution_count": 7,
   "metadata": {
    "collapsed": false
   },
   "outputs": [],
   "source": [
    "calcbase.advance_to_year(2020)\n",
    "calcreform.advance_to_year(2020)\n",
    "assert behv0.has_any_response()\n",
    "calcbeha = Behavior.response(calcbase, calcreform)"
   ]
  },
  {
   "cell_type": "code",
   "execution_count": 8,
   "metadata": {
    "collapsed": false
   },
   "outputs": [
    {
     "name": "stdout",
     "output_type": "stream",
     "text": [
      "('Static Base:', 3154.0587592757793)\n",
      "('Static Reform:', 2956.4728808076502)\n",
      "('Dynamic Reform:', 5299.2013795822049)\n"
     ]
    }
   ],
   "source": [
    "print(\"Static Base:\",calcbase.weighted_total('combined')/1000000000)\n",
    "print(\"Static Reform:\",calcreform.weighted_total('combined')/1000000000)\n",
    "print(\"Dynamic Reform:\",calcbeha.weighted_total('combined')/1000000000)"
   ]
  },
  {
   "cell_type": "code",
   "execution_count": null,
   "metadata": {
    "collapsed": false
   },
   "outputs": [
    {
     "data": {
      "text/html": [
       "<script>Jupyter.notebook.kernel.restart()</script>"
      ],
      "text/plain": [
       "<IPython.core.display.HTML object>"
      ]
     },
     "execution_count": 9,
     "metadata": {},
     "output_type": "execute_result"
    }
   ],
   "source": [
    "from IPython.core.display import HTML\n",
    "HTML(\"<script>Jupyter.notebook.kernel.restart()</script>\")"
   ]
  },
  {
   "cell_type": "code",
   "execution_count": 1,
   "metadata": {
    "collapsed": false
   },
   "outputs": [],
   "source": [
    "import pandas as pd\n",
    "import numpy as np\n",
    "import sys\n",
    "sys.path.append(\"Tax-Calculator-0.15.1\")\n",
    "import taxcalc\n",
    "from taxcalc import Policy, Records, Calculator, Behavior, Consumption"
   ]
  },
  {
   "cell_type": "code",
   "execution_count": 2,
   "metadata": {
    "collapsed": false
   },
   "outputs": [
    {
     "name": "stdout",
     "output_type": "stream",
     "text": [
      "('taxcalc vers:', '0.15.1')\n"
     ]
    }
   ],
   "source": [
    "print('taxcalc vers:', taxcalc.__version__)"
   ]
  },
  {
   "cell_type": "code",
   "execution_count": 3,
   "metadata": {
    "collapsed": true
   },
   "outputs": [],
   "source": [
    "puf = pd.read_csv(\"puf.csv\")\n",
    "policy_base = Policy()\n",
    "records_base = Records(data = puf)\n",
    "\n",
    "policy_reform = Policy()\n",
    "records_reform = Records(data = puf)"
   ]
  },
  {
   "cell_type": "code",
   "execution_count": 4,
   "metadata": {
    "collapsed": true
   },
   "outputs": [],
   "source": [
    "assump_json = \"\"\"\n",
    "    {\"behavior\": {\"_BE_sub\": {\"2018\": [0.25]}},\n",
    "     \"growdiff_baseline\": {},\n",
    "     \"growdiff_response\": {},\n",
    "     \"consumption\": {}\n",
    "    }\n",
    "\"\"\"\n",
    "params_beh = Calculator.read_json_param_objects(None, assump_json)\n",
    "params_pre = Calculator.read_json_param_objects(\"Tax-Calculator-0.15.1/taxcalc/reforms/2017_law.json\", None)\n",
    "behv0 = Behavior()\n",
    "behv0.update_behavior(params_beh['behavior'])\n",
    "policy_base.implement_reform(params_pre['policy'])"
   ]
  },
  {
   "cell_type": "code",
   "execution_count": 5,
   "metadata": {
    "collapsed": false
   },
   "outputs": [
    {
     "name": "stdout",
     "output_type": "stream",
     "text": [
      "You loaded data for 2009.\n",
      "Tax-Calculator startup automatically extrapolated your data to 2013.\n",
      "You loaded data for 2009.\n",
      "Tax-Calculator startup automatically extrapolated your data to 2013.\n"
     ]
    }
   ],
   "source": [
    "calcbase = Calculator(policy = policy_base, records = records_base )\n",
    "calcreform = Calculator(policy = policy_reform, records = records_reform,behavior=behv0)"
   ]
  },
  {
   "cell_type": "code",
   "execution_count": 6,
   "metadata": {
    "collapsed": true
   },
   "outputs": [],
   "source": [
    "calcbase.advance_to_year(2020)\n",
    "calcreform.advance_to_year(2020)\n",
    "assert behv0.has_any_response()\n",
    "calcbeha = Behavior.response(calcbase, calcreform)"
   ]
  },
  {
   "cell_type": "code",
   "execution_count": 7,
   "metadata": {
    "collapsed": false
   },
   "outputs": [
    {
     "name": "stdout",
     "output_type": "stream",
     "text": [
      "('Static Base:', 3154.0587592757793)\n",
      "('Static Reform:', 2965.1966614414328)\n",
      "('Dynamic Reform:', 16380.767223262777)\n"
     ]
    }
   ],
   "source": [
    "print(\"Static Base:\",calcbase.weighted_total('combined')/1000000000)\n",
    "print(\"Static Reform:\",calcreform.weighted_total('combined')/1000000000)\n",
    "print(\"Dynamic Reform:\",calcbeha.weighted_total('combined')/1000000000)"
   ]
  },
  {
   "cell_type": "code",
   "execution_count": null,
   "metadata": {
    "collapsed": true
   },
   "outputs": [],
   "source": []
  }
 ],
 "metadata": {
  "kernelspec": {
   "display_name": "Python 2",
   "language": "python",
   "name": "python2"
  },
  "language_info": {
   "codemirror_mode": {
    "name": "ipython",
    "version": 2
   },
   "file_extension": ".py",
   "mimetype": "text/x-python",
   "name": "python",
   "nbconvert_exporter": "python",
   "pygments_lexer": "ipython2",
   "version": "2.7.13"
  }
 },
 "nbformat": 4,
 "nbformat_minor": 0
}

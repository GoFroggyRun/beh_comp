{
 "cells": [
  {
   "cell_type": "code",
   "execution_count": 1,
   "metadata": {
    "collapsed": false
   },
   "outputs": [],
   "source": [
    "import pandas as pd\n",
    "import numpy as np \n",
    "import sys\n",
    "sys.path.append(\"Tax-Calculator-0.14.2\")\n",
    "import taxcalc\n",
    "from taxcalc import Policy, Records, Calculator, Behavior, Consumption"
   ]
  },
  {
   "cell_type": "code",
   "execution_count": 2,
   "metadata": {
    "collapsed": false
   },
   "outputs": [
    {
     "name": "stdout",
     "output_type": "stream",
     "text": [
      "('taxcalc vers:', '0.14.2')\n"
     ]
    }
   ],
   "source": [
    "print('taxcalc vers:', taxcalc.__version__)"
   ]
  },
  {
   "cell_type": "code",
   "execution_count": 3,
   "metadata": {
    "collapsed": false
   },
   "outputs": [],
   "source": [
    "puf = pd.read_csv(\"puf.csv\")"
   ]
  },
  {
   "cell_type": "code",
   "execution_count": 4,
   "metadata": {
    "collapsed": true
   },
   "outputs": [],
   "source": [
    "policy_base = Policy()\n",
    "records_base = Records(data = puf)\n",
    "\n",
    "policy_reform = Policy()\n",
    "records_reform = Records(data = puf)"
   ]
  },
  {
   "cell_type": "code",
   "execution_count": 5,
   "metadata": {
    "collapsed": false
   },
   "outputs": [],
   "source": [
    "assump_json = \"\"\"\n",
    "    {\"behavior\": {\"_BE_sub\": {\"2018\": [0.25]}},\n",
    "     \"growdiff_baseline\": {},\n",
    "     \"growdiff_response\": {},\n",
    "     \"consumption\": {}\n",
    "    }\n",
    "\"\"\"\n",
    "params = Calculator.read_json_param_objects(\"Tax-Calculator-0.14.2/taxcalc/reforms/TCJA_Reconciliation.json\", assump_json)\n",
    "behv0 = Behavior()\n",
    "behv0.update_behavior(params['behavior'])\n",
    "policy_reform.implement_reform(params['policy'])"
   ]
  },
  {
   "cell_type": "code",
   "execution_count": 6,
   "metadata": {
    "collapsed": false
   },
   "outputs": [
    {
     "name": "stdout",
     "output_type": "stream",
     "text": [
      "You loaded data for 2009.\n",
      "Tax-Calculator startup automatically extrapolated your data to 2013.\n",
      "You loaded data for 2009.\n",
      "Tax-Calculator startup automatically extrapolated your data to 2013.\n"
     ]
    }
   ],
   "source": [
    "calcbase = Calculator(policy = policy_base, records = records_base )\n",
    "calcreform = Calculator(policy = policy_reform, records = records_reform,behavior=behv0)"
   ]
  },
  {
   "cell_type": "code",
   "execution_count": 7,
   "metadata": {
    "collapsed": false
   },
   "outputs": [],
   "source": [
    "calcbase.advance_to_year(2020)\n",
    "calcreform.advance_to_year(2020)\n",
    "assert behv0.has_any_response()\n",
    "calcbeha = Behavior.response(calcbase, calcreform)"
   ]
  },
  {
   "cell_type": "code",
   "execution_count": 8,
   "metadata": {
    "collapsed": false
   },
   "outputs": [
    {
     "name": "stdout",
     "output_type": "stream",
     "text": [
      "('Static Base:', 3154.0587592757793)\n",
      "('Static Reform:', 2990.1350445729731)\n",
      "('Dynamic Reform:', 3245.6943394126324)\n"
     ]
    }
   ],
   "source": [
    "print(\"Static Base:\",calcbase.weighted_total('combined')/1000000000)\n",
    "print(\"Static Reform:\",calcreform.weighted_total('combined')/1000000000)\n",
    "print(\"Dynamic Reform:\",calcbeha.weighted_total('combined')/1000000000)"
   ]
  },
  {
   "cell_type": "code",
   "execution_count": null,
   "metadata": {
    "collapsed": false
   },
   "outputs": [
    {
     "data": {
      "text/html": [
       "<script>Jupyter.notebook.kernel.restart()</script>"
      ],
      "text/plain": [
       "<IPython.core.display.HTML object>"
      ]
     },
     "execution_count": 8,
     "metadata": {},
     "output_type": "execute_result"
    }
   ],
   "source": [
    "from IPython.core.display import HTML\n",
    "HTML(\"<script>Jupyter.notebook.kernel.restart()</script>\")"
   ]
  },
  {
   "cell_type": "code",
   "execution_count": 1,
   "metadata": {
    "collapsed": false
   },
   "outputs": [],
   "source": [
    "import pandas as pd\n",
    "import numpy as np\n",
    "import sys\n",
    "sys.path.append(\"Tax-Calculator-0.15.2\")\n",
    "import taxcalc\n",
    "from taxcalc import Policy, Records, Calculator, Behavior, Consumption"
   ]
  },
  {
   "cell_type": "code",
   "execution_count": 2,
   "metadata": {
    "collapsed": false
   },
   "outputs": [
    {
     "name": "stdout",
     "output_type": "stream",
     "text": [
      "('taxcalc vers:', '0.15.2')\n"
     ]
    }
   ],
   "source": [
    "print('taxcalc vers:', taxcalc.__version__)"
   ]
  },
  {
   "cell_type": "code",
   "execution_count": 3,
   "metadata": {
    "collapsed": true
   },
   "outputs": [],
   "source": [
    "puf = pd.read_csv(\"puf.csv\")\n",
    "policy_base = Policy()\n",
    "records_base = Records(data = puf)\n",
    "\n",
    "policy_reform = Policy()\n",
    "records_reform = Records(data = puf)"
   ]
  },
  {
   "cell_type": "code",
   "execution_count": 4,
   "metadata": {
    "collapsed": false
   },
   "outputs": [],
   "source": [
    "assump_json = \"\"\"\n",
    "    {\"behavior\": {\"_BE_sub\": {\"2018\": [0.25 ]}},\n",
    "     \"growdiff_baseline\": {},\n",
    "     \"growdiff_response\": {},\n",
    "     \"consumption\": {}\n",
    "    }\n",
    "\"\"\"\n",
    "params_beh = Calculator.read_json_param_objects(None, assump_json)\n",
    "params_pre = Calculator.read_json_param_objects(\"Tax-Calculator-0.15.2/taxcalc/reforms/2017_law.json\", None)\n",
    "behv0 = Behavior()\n",
    "behv0.update_behavior(params_beh['behavior'])\n",
    "policy_base.implement_reform(params_pre['policy'])"
   ]
  },
  {
   "cell_type": "code",
   "execution_count": 5,
   "metadata": {
    "collapsed": true
   },
   "outputs": [],
   "source": [
    "result_10yr_diff_reg=[]\n",
    "result_10yr_diff_nearone=[]\n",
    "year_ = [] "
   ]
  },
  {
   "cell_type": "code",
   "execution_count": 6,
   "metadata": {
    "collapsed": false
   },
   "outputs": [
    {
     "name": "stdout",
     "output_type": "stream",
     "text": [
      "You loaded data for 2009.\n",
      "Tax-Calculator startup automatically extrapolated your data to 2013.\n",
      "You loaded data for 2009.\n",
      "Tax-Calculator startup automatically extrapolated your data to 2013.\n",
      "You loaded data for 2009.\n",
      "Tax-Calculator startup automatically extrapolated your data to 2013.\n",
      "You loaded data for 2009.\n",
      "Tax-Calculator startup automatically extrapolated your data to 2013.\n",
      "You loaded data for 2009.\n",
      "Tax-Calculator startup automatically extrapolated your data to 2013.\n",
      "You loaded data for 2009.\n",
      "Tax-Calculator startup automatically extrapolated your data to 2013.\n",
      "You loaded data for 2009.\n",
      "Tax-Calculator startup automatically extrapolated your data to 2013.\n",
      "You loaded data for 2009.\n",
      "Tax-Calculator startup automatically extrapolated your data to 2013.\n",
      "You loaded data for 2009.\n",
      "Tax-Calculator startup automatically extrapolated your data to 2013.\n",
      "You loaded data for 2009.\n",
      "Tax-Calculator startup automatically extrapolated your data to 2013.\n",
      "You loaded data for 2009.\n",
      "Tax-Calculator startup automatically extrapolated your data to 2013.\n",
      "You loaded data for 2009.\n",
      "Tax-Calculator startup automatically extrapolated your data to 2013.\n",
      "You loaded data for 2009.\n",
      "Tax-Calculator startup automatically extrapolated your data to 2013.\n",
      "You loaded data for 2009.\n",
      "Tax-Calculator startup automatically extrapolated your data to 2013.\n",
      "You loaded data for 2009.\n",
      "Tax-Calculator startup automatically extrapolated your data to 2013.\n",
      "You loaded data for 2009.\n",
      "Tax-Calculator startup automatically extrapolated your data to 2013.\n",
      "You loaded data for 2009.\n",
      "Tax-Calculator startup automatically extrapolated your data to 2013.\n",
      "You loaded data for 2009.\n",
      "Tax-Calculator startup automatically extrapolated your data to 2013.\n",
      "You loaded data for 2009.\n",
      "Tax-Calculator startup automatically extrapolated your data to 2013.\n",
      "You loaded data for 2009.\n",
      "Tax-Calculator startup automatically extrapolated your data to 2013.\n"
     ]
    }
   ],
   "source": [
    "for yr in range(10):\n",
    "    year = 2018 + yr\n",
    "    calcbase = Calculator(policy = policy_base, records = records_base )\n",
    "    calcreform = Calculator(policy = policy_reform, records = records_reform,behavior=behv0)\n",
    "    calcbase.advance_to_year(year)\n",
    "    calcreform.advance_to_year(year)\n",
    "    beh_calc_nearone = Behavior.response(calcbase, calcreform, use_nearone=True)\n",
    "    beh_calc_reg = Behavior.response(calcbase, calcreform, use_nearone=False)\n",
    "    year_.append(year)\n",
    "    result_10yr_diff_reg.append((beh_calc_reg.weighted_total('combined') - calcbase.weighted_total('combined'))/1000000000)\n",
    "    result_10yr_diff_nearone.append((beh_calc_nearone.weighted_total('combined') - calcbase.weighted_total('combined'))/1000000000)"
   ]
  },
  {
   "cell_type": "code",
   "execution_count": 7,
   "metadata": {
    "collapsed": false
   },
   "outputs": [],
   "source": [
    "df = pd.DataFrame(data={'Reg': result_10yr_diff_reg, 'Nearone': result_10yr_diff_nearone}, index = year_)"
   ]
  },
  {
   "cell_type": "code",
   "execution_count": 10,
   "metadata": {
    "collapsed": false
   },
   "outputs": [
    {
     "data": {
      "text/html": [
       "<div>\n",
       "<style scoped>\n",
       "    .dataframe tbody tr th:only-of-type {\n",
       "        vertical-align: middle;\n",
       "    }\n",
       "\n",
       "    .dataframe tbody tr th {\n",
       "        vertical-align: top;\n",
       "    }\n",
       "\n",
       "    .dataframe thead th {\n",
       "        text-align: right;\n",
       "    }\n",
       "</style>\n",
       "<table border=\"1\" class=\"dataframe\">\n",
       "  <thead>\n",
       "    <tr style=\"text-align: right;\">\n",
       "      <th></th>\n",
       "      <th>Nearone</th>\n",
       "      <th>Reg</th>\n",
       "    </tr>\n",
       "  </thead>\n",
       "  <tbody>\n",
       "    <tr>\n",
       "      <th>2018</th>\n",
       "      <td>-122.694180</td>\n",
       "      <td>-122.699450</td>\n",
       "    </tr>\n",
       "    <tr>\n",
       "      <th>2019</th>\n",
       "      <td>-48.615759</td>\n",
       "      <td>-122.831689</td>\n",
       "    </tr>\n",
       "    <tr>\n",
       "      <th>2020</th>\n",
       "      <td>13226.708464</td>\n",
       "      <td>-123.167474</td>\n",
       "    </tr>\n",
       "    <tr>\n",
       "      <th>2021</th>\n",
       "      <td>13682.850761</td>\n",
       "      <td>-123.175563</td>\n",
       "    </tr>\n",
       "    <tr>\n",
       "      <th>2022</th>\n",
       "      <td>19436.657062</td>\n",
       "      <td>-125.016141</td>\n",
       "    </tr>\n",
       "    <tr>\n",
       "      <th>2023</th>\n",
       "      <td>5748.381658</td>\n",
       "      <td>-126.128796</td>\n",
       "    </tr>\n",
       "    <tr>\n",
       "      <th>2024</th>\n",
       "      <td>5620.639679</td>\n",
       "      <td>-126.925378</td>\n",
       "    </tr>\n",
       "    <tr>\n",
       "      <th>2025</th>\n",
       "      <td>89.868696</td>\n",
       "      <td>-129.000256</td>\n",
       "    </tr>\n",
       "    <tr>\n",
       "      <th>2026</th>\n",
       "      <td>24.995353</td>\n",
       "      <td>25.035774</td>\n",
       "    </tr>\n",
       "    <tr>\n",
       "      <th>2027</th>\n",
       "      <td>28.906664</td>\n",
       "      <td>29.055850</td>\n",
       "    </tr>\n",
       "  </tbody>\n",
       "</table>\n",
       "</div>"
      ],
      "text/plain": [
       "           Nearone         Reg\n",
       "2018   -122.694180 -122.699450\n",
       "2019    -48.615759 -122.831689\n",
       "2020  13226.708464 -123.167474\n",
       "2021  13682.850761 -123.175563\n",
       "2022  19436.657062 -125.016141\n",
       "2023   5748.381658 -126.128796\n",
       "2024   5620.639679 -126.925378\n",
       "2025     89.868696 -129.000256\n",
       "2026     24.995353   25.035774\n",
       "2027     28.906664   29.055850"
      ]
     },
     "execution_count": 10,
     "metadata": {},
     "output_type": "execute_result"
    }
   ],
   "source": [
    "df"
   ]
  },
  {
   "cell_type": "code",
   "execution_count": null,
   "metadata": {
    "collapsed": true
   },
   "outputs": [],
   "source": []
  },
  {
   "cell_type": "code",
   "execution_count": null,
   "metadata": {
    "collapsed": true
   },
   "outputs": [],
   "source": []
  },
  {
   "cell_type": "code",
   "execution_count": 1,
   "metadata": {
    "collapsed": true
   },
   "outputs": [],
   "source": [
    "import pandas as pd\n",
    "import numpy as np \n",
    "import sys\n",
    "sys.path.append(\"Tax-Calculator-0.14.2\")\n",
    "import taxcalc\n",
    "from taxcalc import Policy, Records, Calculator, Behavior, Consumption"
   ]
  },
  {
   "cell_type": "code",
   "execution_count": 2,
   "metadata": {
    "collapsed": false
   },
   "outputs": [
    {
     "name": "stdout",
     "output_type": "stream",
     "text": [
      "('taxcalc vers:', '0.14.2')\n"
     ]
    }
   ],
   "source": [
    "print('taxcalc vers:', taxcalc.__version__)"
   ]
  },
  {
   "cell_type": "code",
   "execution_count": 3,
   "metadata": {
    "collapsed": true
   },
   "outputs": [],
   "source": [
    "puf = pd.read_csv(\"puf.csv\")"
   ]
  },
  {
   "cell_type": "code",
   "execution_count": 4,
   "metadata": {
    "collapsed": true
   },
   "outputs": [],
   "source": [
    "policy_base = Policy()\n",
    "records_base = Records(data = puf)\n",
    "\n",
    "policy_reform = Policy()\n",
    "records_reform = Records(data = puf)\n",
    "\n",
    "policy_reform_bug = Policy()\n",
    "records_reform_bug = Records(data = puf)"
   ]
  },
  {
   "cell_type": "code",
   "execution_count": 5,
   "metadata": {
    "collapsed": true
   },
   "outputs": [],
   "source": [
    "assump_json = \"\"\"\n",
    "    {\"behavior\": {\"_BE_sub\": {\"2018\": [0.25]}},\n",
    "     \"growdiff_baseline\": {},\n",
    "     \"growdiff_response\": {},\n",
    "     \"consumption\": {}\n",
    "    }\n",
    "\"\"\"\n",
    "\n",
    "debug_json_2 =\"\"\"\n",
    "{\n",
    "    \"policy\": {\n",
    "        \"_II_rt1\":\n",
    "            {\"2018\": [0.1],\n",
    "             \"2026\": [0.1]},\n",
    "        \"_II_rt2\":\n",
    "            {\"2018\": [0.12],\n",
    "             \"2026\": [0.15]},\n",
    "        \"_II_rt3\":\n",
    "            {\"2018\": [0.22],\n",
    "             \"2026\": [0.25]},\n",
    "        \"_II_rt4\":\n",
    "            {\"2018\": [0.24],\n",
    "             \"2026\": [0.28]},\n",
    "        \"_II_rt5\":\n",
    "            {\"2018\": [0.32],\n",
    "             \"2026\": [0.33]},\n",
    "        \"_II_rt6\":\n",
    "            {\"2018\": [0.35],\n",
    "             \"2026\": [0.35]},\n",
    "        \"_II_rt7\":\n",
    "            {\"2018\": [0.37],\n",
    "             \"2026\": [0.396]},\n",
    "        \"_II_brk1\":\n",
    "            {\"2018\": [[9525, 19050, 9525, 13600, 19050]],\n",
    "             \"2026\": [[11242, 22484, 11242, 16094, 22484]]},\n",
    "        \"_II_brk2\":\n",
    "            {\"2018\": [[38700, 77400, 38700, 51800, 77400]],\n",
    "             \"2026\": [[45751, 91502, 45751, 61242, 91502]]},\n",
    "        \"_II_brk3\":\n",
    "            {\"2018\": [[82500, 165000, 82500, 82500, 165000]],\n",
    "             \"2026\": [[110791, 184571,  92286, 158169, 184571]]},\n",
    "        \"_II_brk4\":\n",
    "            {\"2018\": [[157500, 315000, 157500, 157500, 315000]],\n",
    "             \"2026\": [[231045, 281317, 140659, 256181, 281317]]},\n",
    "        \"_II_brk5\":\n",
    "            {\"2018\": [[200000, 400000, 200000, 200000, 400000]],\n",
    "             \"2026\": [[502356, 502356, 251178, 502356, 502356]]},\n",
    "        \"_II_brk6\":\n",
    "            {\"2018\": [[500000, 600000, 300000, 500000, 500000]],\n",
    "             \"2026\": [[504406 ,567457, 283728, 535931, 567457]]},\n",
    "        \"_PT_rt1\":\n",
    "            {\"2018\": [0.1],\n",
    "             \"2026\": [0.1]},\n",
    "        \"_PT_rt2\":\n",
    "            {\"2018\": [0.12],\n",
    "             \"2026\": [0.15]},\n",
    "        \"_PT_rt3\":\n",
    "            {\"2018\": [0.22],\n",
    "             \"2026\": [0.25]},\n",
    "        \"_PT_rt4\":\n",
    "            {\"2018\": [0.24],\n",
    "             \"2026\": [0.28]},\n",
    "        \"_PT_rt5\":\n",
    "            {\"2018\": [0.32],\n",
    "             \"2026\": [0.33]},\n",
    "        \"_PT_rt6\":\n",
    "            {\"2018\": [0.35],\n",
    "             \"2026\": [0.35]},\n",
    "        \"_PT_rt7\":\n",
    "            {\"2018\": [0.37],\n",
    "             \"2026\": [0.396]},\n",
    "        \"_PT_brk1\":\n",
    "            {\"2018\": [[9525, 19050, 9525, 13600, 19050]],\n",
    "             \"2026\": [[11242, 22484, 11242, 16094, 22484]]},\n",
    "        \"_PT_brk2\":\n",
    "            {\"2018\": [[38700, 77400, 38700, 51800, 77400]],\n",
    "             \"2026\": [[45751, 91502, 45751, 61242, 91502]]},\n",
    "        \"_PT_brk3\":\n",
    "            {\"2018\": [[82500, 165000, 82500, 82500, 165000]],\n",
    "             \"2026\": [[110791, 184571, 92286, 158169, 184571]]},\n",
    "        \"_PT_brk4\":\n",
    "            {\"2018\": [[157500, 315000, 157500, 157500, 315000]],\n",
    "             \"2026\": [[231045, 281317, 140659, 256181, 281317]]},\n",
    "        \"_PT_brk5\":\n",
    "            {\"2018\": [[200000, 400000, 200000, 200000, 400000]],\n",
    "             \"2026\": [[502356, 502356, 251178, 502356, 502356]]},\n",
    "        \"_PT_brk6\":\n",
    "            {\"2018\": [[500000, 600000, 300000, 500000, 500000]],\n",
    "             \"2026\": [[504406, 567457, 283728, 535931, 567457]]},\n",
    "        \"_STD\":\n",
    "            {\"2018\": [[12000, 24000, 12000, 18000, 24000]],\n",
    "             \"2026\": [[7655, 15311, 7655, 11272, 15311]]},\n",
    "        \"_II_em\":\n",
    "            {\"2018\": [0],\n",
    "             \"2026\": [4883]},\n",
    "        \"_CTC_ps\":\n",
    "            {\"2018\": [[200000, 400000, 200000, 200000, 400000]],\n",
    "             \"2026\": [[75000, 110000, 55000, 75000, 75000]]},\n",
    "        \"_CTC_c\":\n",
    "            {\"2018\": [1400],\n",
    "             \"2022\": [1500],\n",
    "             \"2025\": [1600],\n",
    "             \"2026\": [1000]},\n",
    "        \"_DependentCredit_Child_c\":\n",
    "            {\"2018\": [600],\n",
    "             \"2022\": [500],\n",
    "             \"2025\": [400],\n",
    "             \"2026\": [0]},\n",
    "        \"_DependentCredit_Nonchild_c\":\n",
    "            {\"2018\": [500],\n",
    "             \"2026\": [0]},\n",
    "        \"_DependentCredit_before_CTC\":\n",
    "            {\"2018\": [true]},  \n",
    "        \"_ACTC_Income_thd\":\n",
    "            {\"2018\": [2500],\n",
    "             \"2026\": [3000]},\n",
    "        \"_AMT_em\":\n",
    "            {\"2018\": [[70300, 109400, 54700, 70300, 109400]],\n",
    "             \"2026\": [[65462, 101870, 50935, 65461, 101870]]},\n",
    "        \"_AMT_em_ps\":\n",
    "            {\"2018\": [[500000, 1000000, 500000, 500000, 1000000]],\n",
    "             \"2026\": [[145511, 193974, 96987, 145511, 193974]]},\n",
    "        \"_ALD_DomesticProduction_hc\":\n",
    "            {\"2018\": [1],\n",
    "             \"2026\": [0]},\n",
    "        \"_ALD_Alimony_hc\":\n",
    "            {\"2019\": [1],\n",
    "             \"2026\": [0]},\n",
    "        \"_ID_prt\":\n",
    "            {\"2018\": [0],\n",
    "             \"2026\": [0.03]},\n",
    "        \"_ID_crt\":\n",
    "            {\"2018\": [1],\n",
    "             \"2026\": [0.8]},\n",
    "        \"_ID_Charity_crt_all\":\n",
    "            {\"2018\": [0.6],\n",
    "             \"2026\": [0.5]},\n",
    "        \"_ID_Casualty_hc\":\n",
    "            {\"2018\": [1],\n",
    "             \"2026\": [0]},\n",
    "        \"_ID_AllTaxes_c\":\n",
    "            {\"2018\": [[10000, 10000, 5000, 10000, 10000]],\n",
    "             \"2026\": [[9e99, 9e99, 9e99, 9e99, 9e99]]},\n",
    "        \"_ID_Miscellaneous_hc\":\n",
    "            {\"2018\": [1],\n",
    "             \"2026\": [0]},\n",
    "        \"_ID_Medical_frt\":\n",
    "            {\"2018\": [0.075],\n",
    "             \"2019\": [0.1]},\n",
    "        \"_cpi_offset\":\n",
    "            {\"2017\": [-0.0025]}  \n",
    "    }\n",
    "}\n",
    "\"\"\"\n",
    "\n",
    "debug_json =\"\"\"\n",
    "{\n",
    "    \"policy\": {\n",
    "        \"_PT_exclusion_rt\":\n",
    "            {\"2018\": [0.2],\n",
    "             \"2026\": [0.0]},\n",
    "        \"_PT_exclusion_wage_limit\":\n",
    "            {\"2018\": [0.5],\n",
    "             \"2026\": [9e+99]}\n",
    "    }\n",
    "}\n",
    "\"\"\""
   ]
  },
  {
   "cell_type": "code",
   "execution_count": 6,
   "metadata": {
    "collapsed": false
   },
   "outputs": [],
   "source": [
    "params_buggy = Calculator.read_json_param_objects(debug_json, assump_json)\n",
    "params_normal = Calculator.read_json_param_objects(debug_json_2, assump_json)\n",
    "behv0 = Behavior()\n",
    "behv0.update_behavior(params_normal['behavior'])\n",
    "policy_reform.implement_reform(params_normal['policy'])\n",
    "behv_buggy = Behavior()\n",
    "behv_buggy.update_behavior(params_buggy['behavior'])\n",
    "policy_reform_bug.implement_reform(params_buggy['policy'])"
   ]
  },
  {
   "cell_type": "code",
   "execution_count": 7,
   "metadata": {
    "collapsed": false
   },
   "outputs": [
    {
     "name": "stdout",
     "output_type": "stream",
     "text": [
      "You loaded data for 2009.\n",
      "Tax-Calculator startup automatically extrapolated your data to 2013.\n",
      "You loaded data for 2009.\n",
      "Tax-Calculator startup automatically extrapolated your data to 2013.\n",
      "You loaded data for 2009.\n",
      "Tax-Calculator startup automatically extrapolated your data to 2013.\n"
     ]
    }
   ],
   "source": [
    "calcbase = Calculator(policy = policy_base, records = records_base )\n",
    "calcreform = Calculator(policy = policy_reform, records = records_reform, behavior=behv0)\n",
    "calcreform_buggy = Calculator(policy = policy_reform_bug, records = records_reform_bug, behavior=behv_buggy)"
   ]
  },
  {
   "cell_type": "code",
   "execution_count": 8,
   "metadata": {
    "collapsed": false
   },
   "outputs": [],
   "source": [
    "calcbase.advance_to_year(2020)\n",
    "calcreform.advance_to_year(2020)\n",
    "calcreform_buggy.advance_to_year(2020)\n",
    "assert behv0.has_any_response()\n",
    "calcbeha_nearone = Behavior.response(calcbase, calcreform)\n",
    "calcbeha_reg = Behavior.response(calcbase, calcreform)\n",
    "calcbeha_buggy_nearone = Behavior.response(calcbase, calcreform_buggy, use_nearone=True)\n",
    "calcbeha_buggy_reg = Behavior.response(calcbase, calcreform_buggy, use_nearone=False)"
   ]
  },
  {
   "cell_type": "code",
   "execution_count": 9,
   "metadata": {
    "collapsed": false
   },
   "outputs": [
    {
     "name": "stdout",
     "output_type": "stream",
     "text": [
      "('Static Reform (Normal):', 2990.1350445729731)\n",
      "('Dynamic Reform (Normal, Nearone):', 3245.6943394126324)\n",
      "('Dynamic Reform (Normal, Reg):', 3245.6943394126324)\n",
      "('Static Reform (Buggy):', 3127.8674546434095)\n",
      "('Dynamic Reform (Buggy, Nearone):', 5480.1338552578964)\n",
      "('Dynamic Reform (Buggy, Reg):', 3151.4411513592504)\n"
     ]
    }
   ],
   "source": [
    "print(\"Static Reform (Normal):\",calcreform.weighted_total('combined')/1000000000)\n",
    "print(\"Dynamic Reform (Normal, Nearone):\",calcbeha_nearone.weighted_total('combined')/1000000000)\n",
    "print(\"Dynamic Reform (Normal, Reg):\",calcbeha_reg.weighted_total('combined')/1000000000)\n",
    "print(\"Static Reform (Buggy):\",calcreform_buggy.weighted_total('combined')/1000000000)\n",
    "print(\"Dynamic Reform (Buggy, Nearone):\",calcbeha_buggy_nearone.weighted_total('combined')/1000000000)\n",
    "print(\"Dynamic Reform (Buggy, Reg):\",calcbeha_buggy_reg.weighted_total('combined')/1000000000)"
   ]
  },
  {
   "cell_type": "code",
   "execution_count": null,
   "metadata": {
    "collapsed": true
   },
   "outputs": [],
   "source": []
  }
 ],
 "metadata": {
  "kernelspec": {
   "display_name": "Python 2",
   "language": "python",
   "name": "python2"
  },
  "language_info": {
   "codemirror_mode": {
    "name": "ipython",
    "version": 2
   },
   "file_extension": ".py",
   "mimetype": "text/x-python",
   "name": "python",
   "nbconvert_exporter": "python",
   "pygments_lexer": "ipython2",
   "version": "2.7.13"
  }
 },
 "nbformat": 4,
 "nbformat_minor": 0
}
